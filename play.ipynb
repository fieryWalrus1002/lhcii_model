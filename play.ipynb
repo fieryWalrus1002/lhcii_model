{
 "cells": [
  {
   "cell_type": "code",
   "execution_count": 14,
   "metadata": {},
   "outputs": [],
   "source": [
    "import numpy as np\n",
    "import random\n",
    "import matplotlib.pyplot as plt\n",
    "import pathlib\n",
    "import pandas as pd\n",
    "import os\n",
    "from sklearn.linear_model import LinearRegression\n",
    "import seaborn as sns\n",
    "from sklearn.model_selection import train_test_split"
   ]
  },
  {
   "cell_type": "markdown",
   "metadata": {},
   "source": []
  },
  {
   "cell_type": "code",
   "execution_count": 2,
   "metadata": {},
   "outputs": [],
   "source": [
    "\n",
    "def calc_step(self, d):\n",
    "    return np.sqrt(4 * d * 2)\n",
    "\n",
    "def convert_d_from_nm2_ns_to_cm2_s(d: float):\n",
    "    return d * 1e-14 / 1e-9\n",
    "\n",
    "def convert_d_from_cm2_s_to_nm2_ns(d: float):\n",
    "    return d * 1e-9 / 1e-14\n",
    "\n",
    "def calc_d_from_step(step):\n",
    "        \"\"\"calculates the d value based on the step nm distance\"\"\"\n",
    "        return (step**2) / (4 * 2)\n",
    "\n",
    "\n",
    "def calc_step_rads(d):\n",
    "    return np.sqrt(2 * d * 2)\n",
    "\n",
    "\n",
    "def convert_d_from_rads2_s_to_rads2_ns(d: float):\n",
    "    \"\"\"converts time scale from s to ns\"\"\"\n",
    "    return d * 1e-9\n",
    "\n",
    "def convert_d_from_rads2_ns_to_rads2_s(d: float):\n",
    "    \"\"\"converts time scale from s to ns\"\"\"\n",
    "    return d / 1e-9\n",
    "\n",
    "def calc_rot_d_from_step(step):\n",
    "    \"\"\"calculate the d value for rotation based on the rotation mean in radians\n",
    "    Rotation diffusion coefficient: D = rad^2 / (2*t)\n",
    "    \"\"\"\n",
    "    return (step**2) / (2 * 2)"
   ]
  },
  {
   "cell_type": "code",
   "execution_count": 9,
   "metadata": {},
   "outputs": [],
   "source": [
    "%matplotlib inline\n",
    "\n",
    "file_str = \"src\\\\grana_model\\\\res\\log\\\\01072022_displacement_data.csv\"\n",
    "\n",
    "filename = f\"{pathlib.Path.cwd()}/{file_str}\"\n",
    "\n",
    "if os.path.exists(filename):\n",
    "    df = pd.read_csv(filename)\n",
    "else:\n",
    "    print(f\"{filename} does not exist\")\n",
    "\n",
    "df[\"displacement_sq\"] = df[\"displacement\"]**2\n",
    "df[\"rotation_sq\"] = df[\"rot_from_origin\"]**2\n"
   ]
  },
  {
   "cell_type": "code",
   "execution_count": 11,
   "metadata": {},
   "outputs": [
    {
     "data": {
      "text/html": [
       "<div>\n",
       "<style scoped>\n",
       "    .dataframe tbody tr th:only-of-type {\n",
       "        vertical-align: middle;\n",
       "    }\n",
       "\n",
       "    .dataframe tbody tr th {\n",
       "        vertical-align: top;\n",
       "    }\n",
       "\n",
       "    .dataframe thead th {\n",
       "        text-align: right;\n",
       "    }\n",
       "</style>\n",
       "<table border=\"1\" class=\"dataframe\">\n",
       "  <thead>\n",
       "    <tr style=\"text-align: right;\">\n",
       "      <th></th>\n",
       "      <th>time</th>\n",
       "      <th>displacement</th>\n",
       "      <th>rot_from_origin</th>\n",
       "      <th>mass</th>\n",
       "      <th>rotation_scalar</th>\n",
       "      <th>diffusion_scalar</th>\n",
       "      <th>x</th>\n",
       "      <th>y</th>\n",
       "      <th>theta</th>\n",
       "      <th>displacement_sq</th>\n",
       "      <th>rotation_sq</th>\n",
       "    </tr>\n",
       "  </thead>\n",
       "  <tbody>\n",
       "    <tr>\n",
       "      <th>0</th>\n",
       "      <td>0.0</td>\n",
       "      <td>0.000</td>\n",
       "      <td>-3.417132</td>\n",
       "      <td>1000.0</td>\n",
       "      <td>0.001785</td>\n",
       "      <td>1220.0</td>\n",
       "      <td>200.131083</td>\n",
       "      <td>295.020177</td>\n",
       "      <td>2.139292</td>\n",
       "      <td>0.000000</td>\n",
       "      <td>11.676792</td>\n",
       "    </tr>\n",
       "    <tr>\n",
       "      <th>1</th>\n",
       "      <td>2.0</td>\n",
       "      <td>0.011</td>\n",
       "      <td>-3.416959</td>\n",
       "      <td>1000.0</td>\n",
       "      <td>0.001785</td>\n",
       "      <td>1220.0</td>\n",
       "      <td>200.139894</td>\n",
       "      <td>295.013698</td>\n",
       "      <td>2.139465</td>\n",
       "      <td>0.000121</td>\n",
       "      <td>11.675607</td>\n",
       "    </tr>\n",
       "    <tr>\n",
       "      <th>2</th>\n",
       "      <td>4.0</td>\n",
       "      <td>0.017</td>\n",
       "      <td>-3.418452</td>\n",
       "      <td>1000.0</td>\n",
       "      <td>0.001785</td>\n",
       "      <td>1220.0</td>\n",
       "      <td>200.148089</td>\n",
       "      <td>295.017132</td>\n",
       "      <td>2.137973</td>\n",
       "      <td>0.000289</td>\n",
       "      <td>11.685811</td>\n",
       "    </tr>\n",
       "    <tr>\n",
       "      <th>3</th>\n",
       "      <td>6.0</td>\n",
       "      <td>0.023</td>\n",
       "      <td>-3.413262</td>\n",
       "      <td>1000.0</td>\n",
       "      <td>0.001785</td>\n",
       "      <td>1220.0</td>\n",
       "      <td>200.153368</td>\n",
       "      <td>295.025093</td>\n",
       "      <td>2.143163</td>\n",
       "      <td>0.000529</td>\n",
       "      <td>11.650355</td>\n",
       "    </tr>\n",
       "    <tr>\n",
       "      <th>4</th>\n",
       "      <td>8.0</td>\n",
       "      <td>0.045</td>\n",
       "      <td>-3.409736</td>\n",
       "      <td>1000.0</td>\n",
       "      <td>0.001785</td>\n",
       "      <td>1220.0</td>\n",
       "      <td>200.173892</td>\n",
       "      <td>295.033322</td>\n",
       "      <td>2.146689</td>\n",
       "      <td>0.002025</td>\n",
       "      <td>11.626298</td>\n",
       "    </tr>\n",
       "  </tbody>\n",
       "</table>\n",
       "</div>"
      ],
      "text/plain": [
       "   time  displacement  rot_from_origin    mass  rotation_scalar  \\\n",
       "0   0.0         0.000        -3.417132  1000.0         0.001785   \n",
       "1   2.0         0.011        -3.416959  1000.0         0.001785   \n",
       "2   4.0         0.017        -3.418452  1000.0         0.001785   \n",
       "3   6.0         0.023        -3.413262  1000.0         0.001785   \n",
       "4   8.0         0.045        -3.409736  1000.0         0.001785   \n",
       "\n",
       "   diffusion_scalar           x           y     theta  displacement_sq  \\\n",
       "0            1220.0  200.131083  295.020177  2.139292         0.000000   \n",
       "1            1220.0  200.139894  295.013698  2.139465         0.000121   \n",
       "2            1220.0  200.148089  295.017132  2.137973         0.000289   \n",
       "3            1220.0  200.153368  295.025093  2.143163         0.000529   \n",
       "4            1220.0  200.173892  295.033322  2.146689         0.002025   \n",
       "\n",
       "   rotation_sq  \n",
       "0    11.676792  \n",
       "1    11.675607  \n",
       "2    11.685811  \n",
       "3    11.650355  \n",
       "4    11.626298  "
      ]
     },
     "execution_count": 11,
     "metadata": {},
     "output_type": "execute_result"
    }
   ],
   "source": [
    "df.head()"
   ]
  },
  {
   "cell_type": "code",
   "execution_count": 42,
   "metadata": {},
   "outputs": [
    {
     "data": {
      "text/html": [
       "<div>\n",
       "<style scoped>\n",
       "    .dataframe tbody tr th:only-of-type {\n",
       "        vertical-align: middle;\n",
       "    }\n",
       "\n",
       "    .dataframe tbody tr th {\n",
       "        vertical-align: top;\n",
       "    }\n",
       "\n",
       "    .dataframe thead th {\n",
       "        text-align: right;\n",
       "    }\n",
       "</style>\n",
       "<table border=\"1\" class=\"dataframe\">\n",
       "  <thead>\n",
       "    <tr style=\"text-align: right;\">\n",
       "      <th></th>\n",
       "      <th>time</th>\n",
       "      <th>displacement_sq</th>\n",
       "    </tr>\n",
       "  </thead>\n",
       "  <tbody>\n",
       "    <tr>\n",
       "      <th>0</th>\n",
       "      <td>0.0</td>\n",
       "      <td>0.000000</td>\n",
       "    </tr>\n",
       "    <tr>\n",
       "      <th>1</th>\n",
       "      <td>2.0</td>\n",
       "      <td>0.000121</td>\n",
       "    </tr>\n",
       "    <tr>\n",
       "      <th>2</th>\n",
       "      <td>4.0</td>\n",
       "      <td>0.000289</td>\n",
       "    </tr>\n",
       "    <tr>\n",
       "      <th>3</th>\n",
       "      <td>6.0</td>\n",
       "      <td>0.000529</td>\n",
       "    </tr>\n",
       "    <tr>\n",
       "      <th>4</th>\n",
       "      <td>8.0</td>\n",
       "      <td>0.002025</td>\n",
       "    </tr>\n",
       "    <tr>\n",
       "      <th>...</th>\n",
       "      <td>...</td>\n",
       "      <td>...</td>\n",
       "    </tr>\n",
       "    <tr>\n",
       "      <th>9999995</th>\n",
       "      <td>1990.0</td>\n",
       "      <td>21.687649</td>\n",
       "    </tr>\n",
       "    <tr>\n",
       "      <th>9999996</th>\n",
       "      <td>1992.0</td>\n",
       "      <td>21.399876</td>\n",
       "    </tr>\n",
       "    <tr>\n",
       "      <th>9999997</th>\n",
       "      <td>1994.0</td>\n",
       "      <td>21.114025</td>\n",
       "    </tr>\n",
       "    <tr>\n",
       "      <th>9999998</th>\n",
       "      <td>1996.0</td>\n",
       "      <td>20.912329</td>\n",
       "    </tr>\n",
       "    <tr>\n",
       "      <th>9999999</th>\n",
       "      <td>1998.0</td>\n",
       "      <td>20.675209</td>\n",
       "    </tr>\n",
       "  </tbody>\n",
       "</table>\n",
       "<p>10000000 rows × 2 columns</p>\n",
       "</div>"
      ],
      "text/plain": [
       "           time  displacement_sq\n",
       "0           0.0         0.000000\n",
       "1           2.0         0.000121\n",
       "2           4.0         0.000289\n",
       "3           6.0         0.000529\n",
       "4           8.0         0.002025\n",
       "...         ...              ...\n",
       "9999995  1990.0        21.687649\n",
       "9999996  1992.0        21.399876\n",
       "9999997  1994.0        21.114025\n",
       "9999998  1996.0        20.912329\n",
       "9999999  1998.0        20.675209\n",
       "\n",
       "[10000000 rows x 2 columns]"
      ]
     },
     "execution_count": 42,
     "metadata": {},
     "output_type": "execute_result"
    }
   ],
   "source": [
    "dflm = df.drop(columns=[\"rot_from_origin\", \"displacement\", \"mass\", \"rotation_scalar\", \"diffusion_scalar\", \"x\", \"y\", \"theta\", \"rotation_sq\"]).copy()\n",
    "dflm = dflm.dropna()\n",
    "dflm"
   ]
  },
  {
   "cell_type": "code",
   "execution_count": 40,
   "metadata": {},
   "outputs": [
    {
     "name": "stdout",
     "output_type": "stream",
     "text": [
      "Intercept: [-3.42339188], coef: [[0.04771214]]\n"
     ]
    }
   ],
   "source": [
    "# linear regression on data\n",
    "y = dflm[[\"displacement_sq\"]]\n",
    "x = dflm[[\"time\"]]\n",
    "\n",
    "x_train, x_test, y_train, y_test = train_test_split(x, y, test_size=0.3, random_state=26)\n",
    "\n",
    "\n",
    "slr = LinearRegression()\n",
    "slr.fit(x_train, y_train)\n",
    "\n",
    "print(f\"Intercept: {slr.intercept_}, coef: {slr.coef_}\")"
   ]
  },
  {
   "cell_type": "code",
   "execution_count": 41,
   "metadata": {},
   "outputs": [
    {
     "name": "stdout",
     "output_type": "stream",
     "text": [
      "(3000000,)\n"
     ]
    },
    {
     "data": {
      "text/html": [
       "<div>\n",
       "<style scoped>\n",
       "    .dataframe tbody tr th:only-of-type {\n",
       "        vertical-align: middle;\n",
       "    }\n",
       "\n",
       "    .dataframe tbody tr th {\n",
       "        vertical-align: top;\n",
       "    }\n",
       "\n",
       "    .dataframe thead th {\n",
       "        text-align: right;\n",
       "    }\n",
       "</style>\n",
       "<table border=\"1\" class=\"dataframe\">\n",
       "  <thead>\n",
       "    <tr style=\"text-align: right;\">\n",
       "      <th></th>\n",
       "      <th>y_test</th>\n",
       "      <th>yhat</th>\n",
       "    </tr>\n",
       "  </thead>\n",
       "  <tbody>\n",
       "    <tr>\n",
       "      <th>0</th>\n",
       "      <td>NaN</td>\n",
       "      <td>80.072849</td>\n",
       "    </tr>\n",
       "    <tr>\n",
       "      <th>1</th>\n",
       "      <td>NaN</td>\n",
       "      <td>53.067779</td>\n",
       "    </tr>\n",
       "    <tr>\n",
       "      <th>2</th>\n",
       "      <td>NaN</td>\n",
       "      <td>31.883590</td>\n",
       "    </tr>\n",
       "    <tr>\n",
       "      <th>3</th>\n",
       "      <td>0.000529</td>\n",
       "      <td>11.939916</td>\n",
       "    </tr>\n",
       "    <tr>\n",
       "      <th>4</th>\n",
       "      <td>NaN</td>\n",
       "      <td>20.718950</td>\n",
       "    </tr>\n",
       "    <tr>\n",
       "      <th>...</th>\n",
       "      <td>...</td>\n",
       "      <td>...</td>\n",
       "    </tr>\n",
       "    <tr>\n",
       "      <th>2999995</th>\n",
       "      <td>129.072321</td>\n",
       "      <td>33.696651</td>\n",
       "    </tr>\n",
       "    <tr>\n",
       "      <th>2999996</th>\n",
       "      <td>127.938721</td>\n",
       "      <td>37.227349</td>\n",
       "    </tr>\n",
       "    <tr>\n",
       "      <th>2999997</th>\n",
       "      <td>NaN</td>\n",
       "      <td>77.305545</td>\n",
       "    </tr>\n",
       "    <tr>\n",
       "      <th>2999998</th>\n",
       "      <td>NaN</td>\n",
       "      <td>65.186662</td>\n",
       "    </tr>\n",
       "    <tr>\n",
       "      <th>2999999</th>\n",
       "      <td>NaN</td>\n",
       "      <td>54.212870</td>\n",
       "    </tr>\n",
       "  </tbody>\n",
       "</table>\n",
       "<p>3000000 rows × 2 columns</p>\n",
       "</div>"
      ],
      "text/plain": [
       "             y_test       yhat\n",
       "0               NaN  80.072849\n",
       "1               NaN  53.067779\n",
       "2               NaN  31.883590\n",
       "3          0.000529  11.939916\n",
       "4               NaN  20.718950\n",
       "...             ...        ...\n",
       "2999995  129.072321  33.696651\n",
       "2999996  127.938721  37.227349\n",
       "2999997         NaN  77.305545\n",
       "2999998         NaN  65.186662\n",
       "2999999         NaN  54.212870\n",
       "\n",
       "[3000000 rows x 2 columns]"
      ]
     },
     "execution_count": 41,
     "metadata": {},
     "output_type": "execute_result"
    }
   ],
   "source": [
    "# predict values\n",
    "yhat = slr.predict(x_test).flatten()\n",
    "print(yhat.shape)\n",
    "slr_diff = pd.DataFrame({\"y_test\": y_test[\"displacement_sq\"], \"yhat\": yhat}, index=[i for i in range(yhat.shape[0])])\n",
    "slr_diff"
   ]
  },
  {
   "cell_type": "code",
   "execution_count": 45,
   "metadata": {},
   "outputs": [
    {
     "data": {
      "image/png": "[encoded data removed]",
      "text/plain": [
       "<Figure size 432x288 with 1 Axes>"
      ]
     },
     "metadata": {
      "needs_background": "light"
     },
     "output_type": "display_data"
    }
   ],
   "source": [
    "plt.scatter(x_test, y_test)\n",
    "plt.plot(x_test, yhat, 'Red')\n",
    "plt.ylim([0, 100])\n",
    "plt.show()"
   ]
  },
  {
   "cell_type": "code",
   "execution_count": 4,
   "metadata": {},
   "outputs": [
    {
     "name": "stdout",
     "output_type": "stream",
     "text": [
      "meas D = 2.85e-04\n",
      "exp D = 1.88e-04\n",
      "step_nm = 0.04771 nm\n"
     ]
    },
    {
     "data": {
      "text/plain": [
       "[<matplotlib.lines.Line2D at 0x17f3e942460>]"
      ]
     },
     "execution_count": 4,
     "metadata": {},
     "output_type": "execute_result"
    },
    {
     "data": {
      "image/png": "[encoded data removed]",
      "text/plain": [
       "<Figure size 432x288 with 1 Axes>"
      ]
     },
     "metadata": {
      "needs_background": "light"
     },
     "output_type": "display_data"
    }
   ],
   "source": [
    "selection = df[['time', 'displacement_sq']].groupby(\"time\").mean()\n",
    "\n",
    "lm_time = np.arange(0, 2000)\n",
    "\n",
    "# line_y = np.linspace(0, np.max(selection[\"displacement_sq\"]), 2000)\n",
    "\n",
    "lm = np.poly1d(np.polyfit(df[\"time\"], df[\"displacement_sq\"], 1))\n",
    "   \n",
    "def predict_line(m, b, n):\n",
    "    return [m*i + b for i in range(n)]\n",
    "\n",
    "line_y = predict_line(m=lm.coef[0], b=0, n=len(lm_time))   \n",
    "\n",
    "d = calc_d_from_step(step=lm.coef[0])\n",
    "d_text = f\"meas D = {d:.2e}\"\n",
    "exp_text = f\"exp D = {convert_d_from_cm2_s_to_nm2_ns(d=1.88e-9):.2e}\" # 1.88e-9 cm2/s\n",
    "    \n",
    "step_text = f\"step_nm = {round(lm.coef[0], 5)} nm\"\n",
    "\n",
    "print(d_text)\n",
    "print(exp_text)\n",
    "print(step_text)\n",
    "\n",
    "# plot the displacement_sq against the fit\n",
    "\n",
    "plt.suptitle(\"displacement of LHCII from origin\")\n",
    "plt.title(\"D in nm^2/ns units\")\n",
    "plt.xlabel(\"time (ns)\")\n",
    "plt.ylabel(\"<nm>^2\")\n",
    "plt.xlim(0, np.max(df[\"time\"]) * 1.05)\n",
    "plt.ylim(0, np.max(selection[\"displacement_sq\"]) * 1.05)\n",
    "plt.annotate(text=d_text, xy=(20, np.max(selection[\"displacement_sq\"]) * 0.95))\n",
    "plt.annotate(text=step_text, xy=(20, np.max(selection[\"displacement_sq\"]) * 0.85))\n",
    "plt.annotate(text=exp_text, xy=(20, np.max(selection[\"displacement_sq\"]) * 0.90))\n",
    "plt.plot(selection[\"displacement_sq\"])\n",
    "plt.plot(lm_time, line_y)"
   ]
  },
  {
   "cell_type": "code",
   "execution_count": 7,
   "metadata": {},
   "outputs": [
    {
     "name": "stdout",
     "output_type": "stream",
     "text": [
      "meas D = 2.85e-04\n",
      "exp D = 1.88e-04\n",
      "step_nm = 0.04771 nm\n"
     ]
    },
    {
     "data": {
      "text/plain": [
       "[<matplotlib.lines.Line2D at 0x17f3eb8b7c0>]"
      ]
     },
     "execution_count": 7,
     "metadata": {},
     "output_type": "execute_result"
    },
    {
     "data": {
      "image/png": "[encoded data removed]",
      "text/plain": [
       "<Figure size 432x288 with 1 Axes>"
      ]
     },
     "metadata": {
      "needs_background": "light"
     },
     "output_type": "display_data"
    }
   ],
   "source": [
    "selection = df[['time', 'displacement_sq']].groupby(\"time\").mean()\n",
    "\n",
    "lm_time = np.arange(0, 2000)\n",
    "\n",
    "# line_y = np.linspace(0, np.max(selection[\"displacement_sq\"]), 2000)\n",
    "\n",
    "lm = np.poly1d(np.polyfit(df[\"time\"], df[\"displacement_sq\"], 1))\n",
    "   \n",
    "def predict_line(m, b, n):\n",
    "    return [m*i + b for i in range(n)]\n",
    "\n",
    "line_y = predict_line(m=lm.coef[0], b=0, n=len(lm_time))   \n",
    "\n",
    "d = calc_d_from_step(step=lm.coef[0])\n",
    "d_text = f\"meas D = {d:.2e}\"\n",
    "exp_text = f\"exp D = {convert_d_from_cm2_s_to_nm2_ns(d=1.88e-9):.2e}\" # 1.88e-9 cm2/s\n",
    "    \n",
    "step_text = f\"step_nm = {round(lm.coef[0], 5)} nm\"\n",
    "\n",
    "print(d_text)\n",
    "print(exp_text)\n",
    "print(step_text)\n",
    "\n",
    "# plot the displacement_sq against the fit\n",
    "\n",
    "plt.suptitle(\"displacement of LHCII from origin\")\n",
    "plt.title(\"D in nm^2/ns units\")\n",
    "plt.xlabel(\"time (ns)\")\n",
    "plt.ylabel(\"<nm>^2\")\n",
    "plt.xlim(0, np.max(df[\"time\"]) * 1.05)\n",
    "plt.ylim(0, np.max(selection[\"displacement_sq\"]) * 1.05)\n",
    "# plt.annotate(text=d_text, xy=(20, np.max(selection[\"displacement_sq\"]) * 0.95))\n",
    "plt.annotate(text=step_text, xy=(20, np.max(selection[\"displacement_sq\"]) * 0.85))\n",
    "plt.annotate(text=exp_text, xy=(20, np.max(selection[\"displacement_sq\"]) * 0.90))\n",
    "plt.plot(selection[\"displacement_sq\"])\n",
    "# plt.plot(lm_time, line_y)"
   ]
  },
  {
   "cell_type": "code",
   "execution_count": 24,
   "metadata": {},
   "outputs": [
    {
     "name": "stdout",
     "output_type": "stream",
     "text": [
      "meas D = 4.33e-11\n",
      "exp D = 2.00e-06\n",
      "step_rads = 1e-05 rads/ns\n"
     ]
    },
    {
     "data": {
      "text/plain": [
       "[<matplotlib.lines.Line2D at 0x213840800a0>]"
      ]
     },
     "execution_count": 24,
     "metadata": {},
     "output_type": "execute_result"
    },
    {
     "data": {
      "image/png": "[encoded data removed]",
      "text/plain": [
       "<Figure size 432x288 with 1 Axes>"
      ]
     },
     "metadata": {
      "needs_background": "light"
     },
     "output_type": "display_data"
    }
   ],
   "source": [
    "selection = df[['time', 'rotation_sq']].groupby(\"time\").mean()\n",
    "\n",
    "lm_time = np.arange(0, 2000)\n",
    "\n",
    "line_y = np.linspace(0, np.max(selection[\"rotation_sq\"]), 2000)\n",
    "\n",
    "lm = np.poly1d(np.polyfit(df[\"time\"], df[\"rotation_sq\"], 1))\n",
    "   \n",
    "d = calc_rot_d_from_step(step=lm.coef[0])\n",
    "d_text = f\"meas D = {d:.2e}\"\n",
    "exp_text = f\"exp D = {convert_d_from_rads2_s_to_rads2_ns(d=2e3):.2e}\" # 2e3 rads2/s\n",
    "    \n",
    "step_text = f\"step_rads = {round(lm.coef[0], 5)} rads/ns\"\n",
    "\n",
    "print(d_text)\n",
    "print(exp_text)\n",
    "print(step_text)\n",
    "\n",
    "# plot the displacement_sq against the fit\n",
    "\n",
    "plt.suptitle(\"angle rotation of LHCII from origin\")\n",
    "plt.title(\"D in rad2/ns units\")\n",
    "plt.xlabel(\"time (ns)\")\n",
    "plt.ylabel(\"<theta from origin>^2\")\n",
    "plt.xlim(0, np.max(df[\"time\"]) * 1.05)\n",
    "plt.ylim(0, np.max(selection[\"rotation_sq\"]) * 1.05)\n",
    "plt.annotate(text=d_text, xy=(20, np.max(selection[\"rotation_sq\"]) * 0.95))\n",
    "plt.annotate(text=step_text, xy=(20, np.max(selection[\"rotation_sq\"]) * 0.85))\n",
    "plt.annotate(text=exp_text, xy=(20, np.max(selection[\"rotation_sq\"]) * 0.90))\n",
    "plt.plot(selection[\"rotation_sq\"])\n",
    "plt.plot(lm(lm_time))\n",
    "\n"
   ]
  },
  {
   "cell_type": "code",
   "execution_count": null,
   "metadata": {},
   "outputs": [],
   "source": [
    "d0 = 0.00018 # d0 in nm2/ns\n",
    "\n",
    "d1 = convert_d_from_nm2_ns_to_cm2_s(d0) # convert to cm2/s units\n",
    "\n",
    "d2 = convert_d_from_cm2_s_to_nm2_ns(d1) # convert the cm2/s units back to nm2/ns units\n",
    "\n",
    "print(f\"d0==d2 is {d0 == d2}\")\n",
    "\n",
    "step_nm = calc_step(d0)\n",
    "\n",
    "step_cm = calc_step(d1)\n",
    "\n",
    "print(f\"d0: {d0}, d1: {d1}, d2: {d2}\")\n",
    "\n",
    "print(f\"nm/ns step: {step_nm}\")\n",
    "\n",
    "print(f\"cm/s step: {step_cm}\")\n"
   ]
  },
  {
   "cell_type": "code",
   "execution_count": null,
   "metadata": {},
   "outputs": [],
   "source": [
    "df_d = pd.read_csv(\"C:\\\\projects\\\\grana_model\\\\src\\\\grana_model\\\\res\\log\\\\d_calc.csv\")\n",
    "print(df_d.mean())\n",
    "\n",
    "df_d.hist()"
   ]
  },
  {
   "cell_type": "code",
   "execution_count": null,
   "metadata": {},
   "outputs": [],
   "source": [
    "from src.grana_model.dcalibrator import DCalibrator\n",
    "\n",
    "structure_dict={\n",
    "                \"LHCII\": {\n",
    "                    \"d\": 1.8e-9,  # 1.8e-9 in cm2/s\n",
    "                    \"d_rot\": 2e13,  # 2 x 10^3  rad^2 s^(-1)\n",
    "                    \"simulation_limit\": 100000,\n",
    "                    \"distance_scalar\": \"well\",\n",
    "                    \"diffusion_scalar\": 1220.0,  # average over 250 steps, gave us this number for keeping step_nm equal to calculated step\n",
    "                    \"distance_threshold\": 50.0,\n",
    "                    \"mass\": 1000.0,\n",
    "                    \"mass_scalar\": 1.0,\n",
    "                    \"rotation_scalar\": 180.0,  # average over 250 steps, gives us <d_rot> of 2.00e13\n",
    "                    \"time_per_step\": 2,  # in ns\n",
    "                    \"average_step_over\": 250,\n",
    "                    \"calibrate_rot_d\": False,\n",
    "                    \"calibrate_diff_d\": False,\n",
    "                }\n",
    "}\n",
    "\n",
    "dcal = DCalibrator(structure_dict[\"LHCII\"])\n",
    "\n",
    "d_ns = dcal.convert_d_from_rads2_s_to_rads2_ns(d=2e13)\n",
    "print(d_ns)"
   ]
  }
 ],
 "metadata": {
  "kernelspec": {
   "display_name": "Python 3.9.12 ('sim')",
   "language": "python",
   "name": "python3"
  },
  "language_info": {
   "codemirror_mode": {
    "name": "ipython",
    "version": 3
   },
   "file_extension": ".py",
   "mimetype": "text/x-python",
   "name": "python",
   "nbconvert_exporter": "python",
   "pygments_lexer": "ipython3",
   "version": "3.9.12"
  },
  "orig_nbformat": 4,
  "vscode": {
   "interpreter": {
    "hash": "f9bc5cb7ec0992daba0695a9823e244b71b39dc358dc9742cfefbb2ae8088a2b"
   }
  }
 },
 "nbformat": 4,
 "nbformat_minor": 2
}
