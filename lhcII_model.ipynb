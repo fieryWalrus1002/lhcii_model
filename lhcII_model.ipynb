{
 "cells": [
  {
   "cell_type": "code",
   "execution_count": 1,
   "metadata": {},
   "outputs": [
    {
     "name": "stderr",
     "output_type": "stream",
     "text": [
      "c:\\Users\\woodm\\miniconda3\\envs\\lhcii\\lib\\site-packages\\pyglet\\image\\codecs\\wic.py:406: UserWarning: [WinError -2147417850] Cannot change thread mode after it is set\n",
      "  warnings.warn(str(err))\n"
     ]
    }
   ],
   "source": [
    "from src.grana_model.simulationenv import SimulationEnvironment\n",
    "from itertools import product\n",
    "from src.grana_model.attractionhandler import AttractionHandler\n",
    "from src.grana_model.spawner import Spawner\n",
    "from src.grana_model.objectdata import ObjectData\n",
    "from src.grana_model.densityhandler import DensityHandler\n",
    "from src.grana_model.lhcii_ensemble import LHCIIEnsemble\n",
    "import pymunk\n",
    "import pyglet"
   ]
  },
  {
   "cell_type": "code",
   "execution_count": 2,
   "metadata": {},
   "outputs": [
    {
     "name": "stdout",
     "output_type": "stream",
     "text": [
      "rep:0, num_lhcii:250, shape_type:circle_small, export: export/data/250/24082022_1349250_circle_small0.csv\n",
      "rep:0, num_lhcii:250, shape_type:simple, export: export/data/250/24082022_1349250_simple0.csv\n",
      "rep:0, num_lhcii:250, shape_type:circle_large, export: export/data/250/24082022_1350250_circle_large0.csv\n",
      "done\n"
     ]
    }
   ],
   "source": [
    "# reps = [r for r in range(0, 49)]\n",
    "# num_lhcii = [250]\n",
    "# circle_types = [\"circle_small\", \"simple\", \"circle_large\"]\n",
    "# steps = [1000]\n",
    "\n",
    "reps = [r for r in range(0, 1)]\n",
    "num_lhcii = [250]\n",
    "circle_types = [\"circle_small\", \"simple\", \"circle_large\"]\n",
    "steps = [1000]\n",
    "\n",
    "combinations = product(reps, num_lhcii, circle_types, steps)\n",
    "\n",
    "for c in combinations:\n",
    "    rep, num_lhcii, shape_type, steps = c\n",
    "    \n",
    "    \n",
    "    space = pymunk.Space()\n",
    "    space.damping = 0.9\n",
    "\n",
    "    batch = pyglet.graphics.Batch()\n",
    "\n",
    "    attraction_handler = AttractionHandler(\n",
    "            thermove_enabled=False, attraction_enabled=False\n",
    "        )\n",
    "\n",
    "    density_handler = DensityHandler(\n",
    "        space=space,\n",
    "        x=200,\n",
    "        y=200,\n",
    "        width=100,\n",
    "        height=100,\n",
    "        )   \n",
    "\n",
    "    object_data = ObjectData(pos_csv_filename=\"082620_SEM_final_coordinates.csv\")\n",
    "\n",
    "    spawner = Spawner(\n",
    "        object_data=object_data,\n",
    "        spawn_type=3,\n",
    "        # 0: \"psii_secondary_noparticles\",\n",
    "        # 1: spawn_type=\"psii_only\",\n",
    "        # 2: spawn_type=\"full\",\n",
    "        # 3: LHCII only\n",
    "        # shape_type=\"circle_large\",\n",
    "        shape_type=shape_type,\n",
    "        circle_radius=0.1,\n",
    "        space=space,\n",
    "        batch=batch,\n",
    "        num_particles=0,\n",
    "        num_psii=0,\n",
    "        num_lhcii=200,\n",
    "        section=(\n",
    "            200,\n",
    "            200,\n",
    "            100,\n",
    "            100,\n",
    "        ),  # determines the section of grana that the LHCII will use for the ensemble area\n",
    "        structure_dict={\n",
    "            \"LHCII\": {\n",
    "                \"d\": 1.8e-9,  # 1.8e-9 in cm2/s\n",
    "                \"d_rot\": 2e3,  # 2 x 10^3  rad^2 s^(-1)\n",
    "                \"simulation_limit\": 1000,\n",
    "                \"distance_scalar\": \"well\",\n",
    "                \"diffusion_scalar\": 1.22e3,  # average over 250 steps, gave us this number for keeping step_nm equal to calculated step\n",
    "                \"distance_threshold\": 50.0,\n",
    "                \"mass\": 1.0e3,\n",
    "                \"mass_scalar\": 1.0,\n",
    "                \"rotation_scalar\": 1.785e-3,  # average over 250 steps, gave us this number to use\n",
    "                \"time_per_step\": 2,  # in ns\n",
    "                \"average_step_over\": 250,\n",
    "                \"calibrate_rot_d\": False,\n",
    "                \"calibrate_diff_d\": False,\n",
    "            }\n",
    "        },\n",
    "    )\n",
    "\n",
    "    env = SimulationEnvironment(\n",
    "        spawner=spawner,\n",
    "        space=space,\n",
    "        object_data=object_data,\n",
    "        attraction_handler=attraction_handler,\n",
    "        densityhandler=density_handler,\n",
    "    )\n",
    "\n",
    "    model = LHCIIEnsemble(space=space, attraction_handler=attraction_handler, density_handler=density_handler, spawner=spawner, env=env)\n",
    "\n",
    "    result = model.run_sim(steps=steps, rep=rep, note=f\"{num_lhcii}_{shape_type}\")\n",
    "    print(f\"rep:{rep}, num_lhcii:{num_lhcii}, shape_type:{shape_type}, export: {result}\")\n",
    "    \n",
    "print(f\"done\")"
   ]
  }
 ],
 "metadata": {
  "kernelspec": {
   "display_name": "Python 3.10.6",
   "language": "python",
   "name": "python3"
  },
  "language_info": {
   "codemirror_mode": {
    "name": "ipython",
    "version": 3
   },
   "file_extension": ".py",
   "mimetype": "text/x-python",
   "name": "python",
   "nbconvert_exporter": "python",
   "pygments_lexer": "ipython3",
   "version": "3.10.6"
  },
  "orig_nbformat": 4,
  "vscode": {
   "interpreter": {
    "hash": "24d60f93147ce72a146e18e36edf2762ae04c090fc71793565ea5ade14e1caf6"
   }
  }
 },
 "nbformat": 4,
 "nbformat_minor": 2
}
